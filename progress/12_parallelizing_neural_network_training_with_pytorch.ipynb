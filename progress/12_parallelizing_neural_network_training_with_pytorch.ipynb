{
 "cells": [
  {
   "cell_type": "markdown",
   "id": "0ac14889",
   "metadata": {},
   "source": [
    "## PyTorch Setup"
   ]
  },
  {
   "cell_type": "code",
   "execution_count": 24,
   "id": "f6b7692a",
   "metadata": {},
   "outputs": [],
   "source": [
    "import torch\n",
    "import numpy as np\n",
    "\n",
    "np.set_printoptions(precision=3)"
   ]
  },
  {
   "cell_type": "code",
   "execution_count": 25,
   "id": "e4fbd45e",
   "metadata": {},
   "outputs": [
    {
     "name": "stdout",
     "output_type": "stream",
     "text": [
      "torch version: 1.11.0+cu113\n",
      "CUDA is available: True\n",
      "device count: 1\n",
      "current device: 0\n",
      "device 0 is: NVIDIA GeForce RTX 2070 SUPER\n"
     ]
    }
   ],
   "source": [
    "!python pytorch_config.py"
   ]
  },
  {
   "cell_type": "markdown",
   "id": "f24687ef",
   "metadata": {},
   "source": [
    "## Creating Tensors in PyTorch"
   ]
  },
  {
   "cell_type": "code",
   "execution_count": 26,
   "id": "ad2a39a0",
   "metadata": {},
   "outputs": [
    {
     "name": "stdout",
     "output_type": "stream",
     "text": [
      "tensor([1, 2, 3])\n",
      "tensor([4, 5, 6], dtype=torch.int32)\n"
     ]
    }
   ],
   "source": [
    "# convert list and numpy array to tensor\n",
    "a = [1, 2, 3]\n",
    "b = np.array([4, 5, 6], dtype=np.int32)\n",
    "\n",
    "t_a = torch.tensor(a)\n",
    "t_b = torch.from_numpy(b)\n",
    "\n",
    "print(t_a)\n",
    "print(t_b)"
   ]
  },
  {
   "cell_type": "code",
   "execution_count": 27,
   "id": "e7404245",
   "metadata": {},
   "outputs": [
    {
     "name": "stdout",
     "output_type": "stream",
     "text": [
      "torch.Size([3, 2])\n",
      "tensor([[1., 1.],\n",
      "        [1., 1.],\n",
      "        [1., 1.]])\n"
     ]
    }
   ],
   "source": [
    "# inspect properties of tensor\n",
    "t_ones = torch.ones(3, 2)\n",
    "print(t_ones.shape)\n",
    "print(t_ones)"
   ]
  },
  {
   "cell_type": "code",
   "execution_count": 28,
   "id": "0979fa08",
   "metadata": {},
   "outputs": [
    {
     "name": "stdout",
     "output_type": "stream",
     "text": [
      "tensor([[0.4359, 0.7515, 0.5640],\n",
      "        [0.6844, 0.3030, 0.5835]])\n"
     ]
    }
   ],
   "source": [
    "# create random values\n",
    "rand_tensor = torch.rand(2, 3)\n",
    "print(rand_tensor)"
   ]
  },
  {
   "cell_type": "markdown",
   "id": "a8926b90",
   "metadata": {},
   "source": [
    "## Manipulating the Data Type and Shape of a Tensor"
   ]
  },
  {
   "cell_type": "code",
   "execution_count": 29,
   "id": "d5f58c8c",
   "metadata": {},
   "outputs": [
    {
     "name": "stdout",
     "output_type": "stream",
     "text": [
      "torch.int64\n"
     ]
    }
   ],
   "source": [
    "# change data type of tensor\n",
    "t_a_new = t_a.to(torch.int64)\n",
    "print(t_a_new.dtype)"
   ]
  },
  {
   "cell_type": "code",
   "execution_count": 30,
   "id": "ed047b66",
   "metadata": {},
   "outputs": [
    {
     "name": "stdout",
     "output_type": "stream",
     "text": [
      "torch.Size([3, 5])  -->  torch.Size([5, 3])\n"
     ]
    }
   ],
   "source": [
    "# transposing a tensor\n",
    "t = torch.rand(3, 5)\n",
    "t_tr = torch.transpose(t, 0, 1)\n",
    "print(t.shape, ' --> ', t_tr.shape)"
   ]
  },
  {
   "cell_type": "code",
   "execution_count": 31,
   "id": "924e6350",
   "metadata": {},
   "outputs": [
    {
     "name": "stdout",
     "output_type": "stream",
     "text": [
      "torch.Size([30])  -->  torch.Size([5, 6])\n"
     ]
    }
   ],
   "source": [
    "# reshaping a tensor\n",
    "t = torch.zeros(30)\n",
    "t_reshape = t.reshape(5, 6)\n",
    "print(t.shape, ' --> ', t_reshape.shape)"
   ]
  },
  {
   "cell_type": "code",
   "execution_count": 33,
   "id": "b9f555a1",
   "metadata": {},
   "outputs": [
    {
     "name": "stdout",
     "output_type": "stream",
     "text": [
      "torch.Size([1, 2, 1, 4, 1])  -->  torch.Size([1, 2, 4, 1])\n"
     ]
    }
   ],
   "source": [
    "# squeeze dimensions \n",
    "t = torch.zeros(1, 2, 1, 4, 1)\n",
    "t_sqz = torch.squeeze(t, 2)\n",
    "print(t.shape, ' --> ', t_sqz.shape)"
   ]
  },
  {
   "cell_type": "markdown",
   "id": "ee6173c2",
   "metadata": {},
   "source": [
    "## Applying Mathematical Operations to Tensors"
   ]
  },
  {
   "cell_type": "code",
   "execution_count": 34,
   "id": "6bb64144",
   "metadata": {},
   "outputs": [],
   "source": [
    "torch.manual_seed(1)\n",
    "t1 = 2 * torch.rand(5, 2) - 1\n",
    "t2 = torch.normal(mean=0, std=1, size=(5, 2))"
   ]
  },
  {
   "cell_type": "code",
   "execution_count": 36,
   "id": "0b8a734d",
   "metadata": {},
   "outputs": [
    {
     "name": "stdout",
     "output_type": "stream",
     "text": [
      "tensor([[ 0.4426, -0.3114],\n",
      "        [ 0.0660, -0.5970],\n",
      "        [ 1.1249,  0.0150],\n",
      "        [ 0.1569,  0.7107],\n",
      "        [-0.0451, -0.0352]])\n"
     ]
    }
   ],
   "source": [
    "# compute element-wise product\n",
    "t3 = torch.multiply(t1, t2)\n",
    "print(t3)"
   ]
  },
  {
   "cell_type": "code",
   "execution_count": 37,
   "id": "a8e4e48c",
   "metadata": {},
   "outputs": [
    {
     "name": "stdout",
     "output_type": "stream",
     "text": [
      "tensor([-0.1373,  0.2028])\n"
     ]
    }
   ],
   "source": [
    "# mean of each column\n",
    "t4 = torch.mean(t1, axis=0)\n",
    "print(t4)"
   ]
  },
  {
   "cell_type": "code",
   "execution_count": 39,
   "id": "33409991",
   "metadata": {},
   "outputs": [
    {
     "name": "stdout",
     "output_type": "stream",
     "text": [
      "tensor([[ 0.1312,  0.3860, -0.6267, -1.0096, -0.2943],\n",
      "        [ 0.1647, -0.5310,  0.2434,  0.8035,  0.1980],\n",
      "        [-0.3855, -0.4422,  1.1399,  1.5558,  0.4781],\n",
      "        [ 0.1822, -0.5771,  0.2585,  0.8676,  0.2132],\n",
      "        [ 0.0330,  0.1084, -0.1692, -0.2771, -0.0804]])\n"
     ]
    }
   ],
   "source": [
    "# matrix multiplication: t_1 x t_2^T\n",
    "t5 = torch.matmul(t1, torch.transpose(t2, 0, 1))\n",
    "print(t5)"
   ]
  },
  {
   "cell_type": "code",
   "execution_count": 40,
   "id": "d573dbb9",
   "metadata": {},
   "outputs": [
    {
     "name": "stdout",
     "output_type": "stream",
     "text": [
      "tensor([[ 1.7453,  0.3392],\n",
      "        [-1.6038, -0.2180]])\n"
     ]
    }
   ],
   "source": [
    "# matrix multiplication: t_1^T x t_2\n",
    "t6 = torch.matmul(torch.transpose(t1, 0, 1), t2)\n",
    "print(t6)"
   ]
  },
  {
   "cell_type": "code",
   "execution_count": 45,
   "id": "749b6456",
   "metadata": {},
   "outputs": [
    {
     "name": "stdout",
     "output_type": "stream",
     "text": [
      "tensor([0.6785, 0.5078, 1.1162, 0.5488, 0.1853])\n",
      "tensor([0.6785, 0.5078, 1.1162, 0.5488, 0.1853])\n"
     ]
    }
   ],
   "source": [
    "# L^2 norm of t1\n",
    "norm_t1 = torch.linalg.norm(t1, ord=2, dim=1)\n",
    "print(norm_t1)\n",
    "\n",
    "# compare with base operations\n",
    "base_norm_t1 = torch.tensor(np.sqrt(np.sum(np.square(t1.numpy()), axis=1)))\n",
    "print(base_norm_t1)"
   ]
  },
  {
   "cell_type": "markdown",
   "id": "0feba2d1",
   "metadata": {},
   "source": [
    "## Split, Stack, and Concatenate Tensors"
   ]
  },
  {
   "cell_type": "code",
   "execution_count": 50,
   "id": "97fea1eb",
   "metadata": {},
   "outputs": [
    {
     "name": "stdout",
     "output_type": "stream",
     "text": [
      "tensor([0.7576, 0.2793, 0.4031, 0.7347, 0.0293, 0.7999])\n"
     ]
    },
    {
     "data": {
      "text/plain": [
       "[array([0.758, 0.279], dtype=float32),\n",
       " array([0.403, 0.735], dtype=float32),\n",
       " array([0.029, 0.8  ], dtype=float32)]"
      ]
     },
     "execution_count": 50,
     "metadata": {},
     "output_type": "execute_result"
    }
   ],
   "source": [
    "# split tensors using torch.chunk(tensor, chunks)\n",
    "# if the number of chunks is not divisible by the tensor size, the final chunk will be smaller.\n",
    "\n",
    "torch.manual_seed(1)\n",
    "t = torch.rand(6)\n",
    "print(t)\n",
    "\n",
    "t_splits = torch.chunk(t, 3)\n",
    "[item.numpy() for item in t_splits]"
   ]
  },
  {
   "cell_type": "code",
   "execution_count": 51,
   "id": "2b62747d",
   "metadata": {},
   "outputs": [
    {
     "name": "stdout",
     "output_type": "stream",
     "text": [
      "tensor([0.7576, 0.2793, 0.4031, 0.7347, 0.0293])\n"
     ]
    },
    {
     "data": {
      "text/plain": [
       "[array([0.758, 0.279, 0.403], dtype=float32),\n",
       " array([0.735, 0.029], dtype=float32)]"
      ]
     },
     "execution_count": 51,
     "metadata": {},
     "output_type": "execute_result"
    }
   ],
   "source": [
    "# define size of output tensors directly with torch.split(tensor, split_size_or_sections)\n",
    "\n",
    "torch.manual_seed(1)\n",
    "t = torch.rand(5)\n",
    "print(t)\n",
    "\n",
    "t_splits = torch.split(t, split_size_or_sections=[3, 2])\n",
    "[item.numpy() for item in t_splits]"
   ]
  },
  {
   "cell_type": "code",
   "execution_count": null,
   "id": "072ec81c",
   "metadata": {},
   "outputs": [],
   "source": []
  },
  {
   "cell_type": "code",
   "execution_count": null,
   "id": "b6eb7665",
   "metadata": {},
   "outputs": [],
   "source": []
  }
 ],
 "metadata": {
  "kernelspec": {
   "display_name": "Python 3.9 (pytorch)",
   "language": "python",
   "name": "pytorch"
  },
  "language_info": {
   "codemirror_mode": {
    "name": "ipython",
    "version": 3
   },
   "file_extension": ".py",
   "mimetype": "text/x-python",
   "name": "python",
   "nbconvert_exporter": "python",
   "pygments_lexer": "ipython3",
   "version": "3.9.7"
  }
 },
 "nbformat": 4,
 "nbformat_minor": 5
}
